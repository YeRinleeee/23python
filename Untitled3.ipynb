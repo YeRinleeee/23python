{
  "nbformat": 4,
  "nbformat_minor": 0,
  "metadata": {
    "colab": {
      "provenance": [],
      "authorship_tag": "ABX9TyMyR/GcUmhc59DfUnWc8QUh",
      "include_colab_link": true
    },
    "kernelspec": {
      "name": "python3",
      "display_name": "Python 3"
    },
    "language_info": {
      "name": "python"
    }
  },
  "cells": [
    {
      "cell_type": "markdown",
      "metadata": {
        "id": "view-in-github",
        "colab_type": "text"
      },
      "source": [
        "<a href=\"https://colab.research.google.com/github/YeRinleeee/23python/blob/main/Untitled3.ipynb\" target=\"_parent\"><img src=\"https://colab.research.google.com/assets/colab-badge.svg\" alt=\"Open In Colab\"/></a>"
      ]
    },
    {
      "cell_type": "markdown",
      "source": [
        "4. 사용자로부터 2개의 정수를 받아서 합계를 출력하시오.\n",
        " - 정수 x\n",
        "  - 정수 y"
      ],
      "metadata": {
        "id": "eTwqHOD9UmaQ"
      }
    },
    {
      "cell_type": "code",
      "source": [
        "print(\"정수 2개를 입력하시오.: \")\n",
        "x = int(input('x의 값을 입력하시오.: '))\n",
        "y = int(input('y의 값을 입력하시오.: '))\n",
        "sum = x + y\n",
        "print(sum)\n",
        "print(f'정수 {x} + 정수 {y}의 값은 {sum}이다.')\n"
      ],
      "metadata": {
        "colab": {
          "base_uri": "https://localhost:8080/"
        },
        "id": "Ky-hSZ_aU9i8",
        "outputId": "0d68ce90-c7a6-4bbd-ba79-44f9b76cc4fa"
      },
      "execution_count": null,
      "outputs": [
        {
          "output_type": "stream",
          "name": "stdout",
          "text": [
            "정수 2개를 입력하시오.: \n",
            "x의 값을 입력하시오.: 7\n",
            "y의 값을 입력하시오.: 9\n",
            "16\n",
            "정수 7 + 정수 9의 값은 16이다.\n"
          ]
        }
      ]
    },
    {
      "cell_type": "markdown",
      "source": [
        "5. 부가세를 계산하시오.\n",
        " - 상품의 가격 (price)\n",
        "  - 부가세 (vat)"
      ],
      "metadata": {
        "id": "uXXNetwGWPyf"
      }
    },
    {
      "cell_type": "code",
      "source": [
        "print(\"상품의 가격을 입력하시오.: \")\n",
        "price = int(input('상품의 가격: '))\n",
        "vat = price * 0.1\n",
        "print(vat)\n",
        "print(f'상품의 가격은 {price}이며, 부가세는 {vat}이다.')"
      ],
      "metadata": {
        "colab": {
          "base_uri": "https://localhost:8080/"
        },
        "id": "wARzkoAxWiuh",
        "outputId": "45f4ea2a-8b75-4d46-a147-4725f5395418"
      },
      "execution_count": null,
      "outputs": [
        {
          "output_type": "stream",
          "name": "stdout",
          "text": [
            "상품의 가격을 입력하시오.: \n",
            "상품의 가격: 10000\n",
            "1000.0\n",
            "상품의 가격은 10000이며, 부가세는 1000.0이다.\n"
          ]
        }
      ]
    }
  ]
}